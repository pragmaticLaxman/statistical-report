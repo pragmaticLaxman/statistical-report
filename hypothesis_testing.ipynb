{
 "cells": [
  {
   "cell_type": "code",
   "execution_count": 37,
   "id": "c8e9c175",
   "metadata": {},
   "outputs": [
    {
     "data": {
      "text/plain": [
       "'\\nSolution approach \\n\\n1. Group the csv data by ai, newhire and control groups\\n2. For each group, calculate the phase1-phase2-difference for each team within the group. Then calculate the mean of the difference for each team.\\n3. Now for each group, you have the mean difference for all the teams within the group. \\n4. Compare the difference across groups mathematically, using ANOVA Test.\\n\\n'"
      ]
     },
     "execution_count": 37,
     "metadata": {},
     "output_type": "execute_result"
    }
   ],
   "source": [
    "\"\"\"\n",
    "Solution approach \n",
    "\n",
    "1. Group the csv data by ai, newhire and control groups\n",
    "2. For each group, calculate the phase1-phase2-difference for each team within the group. Then calculate the mean of the difference for each team.\n",
    "3. Now for each group, you have the mean difference for all the teams within the group. \n",
    "4. Compare the difference across groups mathematically, using ANOVA Test.\n",
    "\n",
    "\"\"\""
   ]
  },
  {
   "cell_type": "code",
   "execution_count": 38,
   "id": "4bbd147f",
   "metadata": {},
   "outputs": [],
   "source": [
    "import pandas as pd\n",
    "import numpy as np\n",
    "from scipy.stats import f_oneway"
   ]
  },
  {
   "cell_type": "code",
   "execution_count": 39,
   "id": "01f3a43e",
   "metadata": {},
   "outputs": [],
   "source": [
    "df = pd.read_csv(\"mario.csv\")"
   ]
  },
  {
   "cell_type": "code",
   "execution_count": 40,
   "id": "f70a073d",
   "metadata": {
    "scrolled": true
   },
   "outputs": [
    {
     "name": "stdout",
     "output_type": "stream",
     "text": [
      "AI Group:\n",
      "     team_id  phase group  round  totalingred\n",
      "180   101602      1    ai      1           20\n",
      "181   101602      1    ai      2           19\n",
      "182   101602      1    ai      3           23\n",
      "183   101602      1    ai      4           19\n",
      "184   101602      1    ai      5           22\n",
      "\n",
      "Newhire Group:\n",
      "   team_id  phase    group  round  totalingred\n",
      "0    21301      1  newhire      1           19\n",
      "1    21301      1  newhire      2           23\n",
      "2    21301      1  newhire      3           23\n",
      "3    21301      1  newhire      4           25\n",
      "4    21301      1  newhire      5           24\n",
      "\n",
      "Control Group:\n",
      "     team_id  phase    group  round  totalingred\n",
      "252   102901      1  control      1           24\n",
      "253   102901      1  control      2           27\n",
      "254   102901      1  control      3           28\n",
      "255   102901      1  control      4           31\n",
      "256   102901      1  control      5           26\n"
     ]
    }
   ],
   "source": [
    "\n",
    "# Group the data by 'group'\n",
    "grouped_data = df.groupby('group')\n",
    "\n",
    "# Create DataFrames for each group\n",
    "ai_group = grouped_data.get_group('ai')\n",
    "newhire_group = grouped_data.get_group('newhire')\n",
    "control_group = grouped_data.get_group('control')\n",
    "\n",
    "# Display the first few rows of each group (optional)\n",
    "print(\"AI Group:\")\n",
    "print(ai_group.head())\n",
    "\n",
    "print(\"\\nNewhire Group:\")\n",
    "print(newhire_group.head())\n",
    "\n",
    "print(\"\\nControl Group:\")\n",
    "print(control_group.head())\n"
   ]
  },
  {
   "cell_type": "code",
   "execution_count": 41,
   "id": "190ff05a",
   "metadata": {},
   "outputs": [],
   "source": [
    "def calculate_mean_of_difference_of_two_phases(group_df):\n",
    "    phase1 = group_df[group_df['phase'] == 1]['totalingred'].values\n",
    "    phase2 = group_df[group_df['phase'] == 2]['totalingred'].values\n",
    "    difference = phase1 - phase2\n",
    "    return difference.mean()"
   ]
  },
  {
   "cell_type": "code",
   "execution_count": 42,
   "id": "6bec547f",
   "metadata": {},
   "outputs": [],
   "source": [
    "ai_datas = []\n",
    "for team_id, team_id_group_df in ai_group.groupby(\"team_id\"):\n",
    "    data = {}\n",
    "    data[\"team_id\"] = team_id\n",
    "    data[\"mean_of_difference_of_two_phases\"] = calculate_mean_of_difference_of_two_phases(team_id_group_df)\n",
    "    ai_datas.append(data)\n",
    "    "
   ]
  },
  {
   "cell_type": "code",
   "execution_count": 43,
   "id": "33943827",
   "metadata": {},
   "outputs": [
    {
     "data": {
      "text/html": [
       "<div>\n",
       "<style scoped>\n",
       "    .dataframe tbody tr th:only-of-type {\n",
       "        vertical-align: middle;\n",
       "    }\n",
       "\n",
       "    .dataframe tbody tr th {\n",
       "        vertical-align: top;\n",
       "    }\n",
       "\n",
       "    .dataframe thead th {\n",
       "        text-align: right;\n",
       "    }\n",
       "</style>\n",
       "<table border=\"1\" class=\"dataframe\">\n",
       "  <thead>\n",
       "    <tr style=\"text-align: right;\">\n",
       "      <th></th>\n",
       "      <th>team_id</th>\n",
       "      <th>mean_of_difference_of_two_phases</th>\n",
       "    </tr>\n",
       "  </thead>\n",
       "  <tbody>\n",
       "    <tr>\n",
       "      <th>0</th>\n",
       "      <td>101602</td>\n",
       "      <td>-7.166667</td>\n",
       "    </tr>\n",
       "    <tr>\n",
       "      <th>1</th>\n",
       "      <td>101603</td>\n",
       "      <td>-0.833333</td>\n",
       "    </tr>\n",
       "    <tr>\n",
       "      <th>2</th>\n",
       "      <td>102401</td>\n",
       "      <td>-3.500000</td>\n",
       "    </tr>\n",
       "    <tr>\n",
       "      <th>3</th>\n",
       "      <td>102410</td>\n",
       "      <td>-2.166667</td>\n",
       "    </tr>\n",
       "    <tr>\n",
       "      <th>4</th>\n",
       "      <td>102411</td>\n",
       "      <td>-2.166667</td>\n",
       "    </tr>\n",
       "    <tr>\n",
       "      <th>5</th>\n",
       "      <td>102412</td>\n",
       "      <td>-2.333333</td>\n",
       "    </tr>\n",
       "    <tr>\n",
       "      <th>6</th>\n",
       "      <td>110510</td>\n",
       "      <td>-4.833333</td>\n",
       "    </tr>\n",
       "    <tr>\n",
       "      <th>7</th>\n",
       "      <td>110511</td>\n",
       "      <td>-3.500000</td>\n",
       "    </tr>\n",
       "    <tr>\n",
       "      <th>8</th>\n",
       "      <td>110811</td>\n",
       "      <td>-2.666667</td>\n",
       "    </tr>\n",
       "    <tr>\n",
       "      <th>9</th>\n",
       "      <td>110812</td>\n",
       "      <td>-3.833333</td>\n",
       "    </tr>\n",
       "    <tr>\n",
       "      <th>10</th>\n",
       "      <td>112203</td>\n",
       "      <td>-1.000000</td>\n",
       "    </tr>\n",
       "    <tr>\n",
       "      <th>11</th>\n",
       "      <td>112205</td>\n",
       "      <td>-4.333333</td>\n",
       "    </tr>\n",
       "    <tr>\n",
       "      <th>12</th>\n",
       "      <td>112501</td>\n",
       "      <td>-2.500000</td>\n",
       "    </tr>\n",
       "    <tr>\n",
       "      <th>13</th>\n",
       "      <td>112503</td>\n",
       "      <td>-2.666667</td>\n",
       "    </tr>\n",
       "    <tr>\n",
       "      <th>14</th>\n",
       "      <td>112504</td>\n",
       "      <td>-3.000000</td>\n",
       "    </tr>\n",
       "    <tr>\n",
       "      <th>15</th>\n",
       "      <td>112505</td>\n",
       "      <td>-3.000000</td>\n",
       "    </tr>\n",
       "    <tr>\n",
       "      <th>16</th>\n",
       "      <td>112510</td>\n",
       "      <td>-2.500000</td>\n",
       "    </tr>\n",
       "    <tr>\n",
       "      <th>17</th>\n",
       "      <td>112511</td>\n",
       "      <td>-2.166667</td>\n",
       "    </tr>\n",
       "    <tr>\n",
       "      <th>18</th>\n",
       "      <td>112610</td>\n",
       "      <td>-5.500000</td>\n",
       "    </tr>\n",
       "    <tr>\n",
       "      <th>19</th>\n",
       "      <td>112611</td>\n",
       "      <td>-2.500000</td>\n",
       "    </tr>\n",
       "  </tbody>\n",
       "</table>\n",
       "</div>"
      ],
      "text/plain": [
       "    team_id  mean_of_difference_of_two_phases\n",
       "0    101602                         -7.166667\n",
       "1    101603                         -0.833333\n",
       "2    102401                         -3.500000\n",
       "3    102410                         -2.166667\n",
       "4    102411                         -2.166667\n",
       "5    102412                         -2.333333\n",
       "6    110510                         -4.833333\n",
       "7    110511                         -3.500000\n",
       "8    110811                         -2.666667\n",
       "9    110812                         -3.833333\n",
       "10   112203                         -1.000000\n",
       "11   112205                         -4.333333\n",
       "12   112501                         -2.500000\n",
       "13   112503                         -2.666667\n",
       "14   112504                         -3.000000\n",
       "15   112505                         -3.000000\n",
       "16   112510                         -2.500000\n",
       "17   112511                         -2.166667\n",
       "18   112610                         -5.500000\n",
       "19   112611                         -2.500000"
      ]
     },
     "execution_count": 43,
     "metadata": {},
     "output_type": "execute_result"
    }
   ],
   "source": [
    "ai_datadf = pd.DataFrame(ai_datas)\n",
    "ai_datadf"
   ]
  },
  {
   "cell_type": "code",
   "execution_count": 44,
   "id": "6058964d",
   "metadata": {},
   "outputs": [],
   "source": [
    "newhire_datas = []\n",
    "for team_id, team_id_group_df in newhire_group.groupby(\"team_id\"):\n",
    "    data = {}\n",
    "    data[\"team_id\"] = team_id\n",
    "    data[\"mean_of_difference_of_two_phases\"] = calculate_mean_of_difference_of_two_phases(team_id_group_df)\n",
    "    newhire_datas.append(data)\n",
    "    "
   ]
  },
  {
   "cell_type": "code",
   "execution_count": 45,
   "id": "be898c70",
   "metadata": {},
   "outputs": [
    {
     "data": {
      "text/html": [
       "<div>\n",
       "<style scoped>\n",
       "    .dataframe tbody tr th:only-of-type {\n",
       "        vertical-align: middle;\n",
       "    }\n",
       "\n",
       "    .dataframe tbody tr th {\n",
       "        vertical-align: top;\n",
       "    }\n",
       "\n",
       "    .dataframe thead th {\n",
       "        text-align: right;\n",
       "    }\n",
       "</style>\n",
       "<table border=\"1\" class=\"dataframe\">\n",
       "  <thead>\n",
       "    <tr style=\"text-align: right;\">\n",
       "      <th></th>\n",
       "      <th>team_id</th>\n",
       "      <th>mean_of_difference_of_two_phases</th>\n",
       "    </tr>\n",
       "  </thead>\n",
       "  <tbody>\n",
       "    <tr>\n",
       "      <th>0</th>\n",
       "      <td>21301</td>\n",
       "      <td>-5.500000</td>\n",
       "    </tr>\n",
       "    <tr>\n",
       "      <th>1</th>\n",
       "      <td>21312</td>\n",
       "      <td>-7.166667</td>\n",
       "    </tr>\n",
       "    <tr>\n",
       "      <th>2</th>\n",
       "      <td>21410</td>\n",
       "      <td>1.666667</td>\n",
       "    </tr>\n",
       "    <tr>\n",
       "      <th>3</th>\n",
       "      <td>21411</td>\n",
       "      <td>-4.333333</td>\n",
       "    </tr>\n",
       "    <tr>\n",
       "      <th>4</th>\n",
       "      <td>21412</td>\n",
       "      <td>-6.000000</td>\n",
       "    </tr>\n",
       "    <tr>\n",
       "      <th>5</th>\n",
       "      <td>22010</td>\n",
       "      <td>-2.833333</td>\n",
       "    </tr>\n",
       "    <tr>\n",
       "      <th>6</th>\n",
       "      <td>22011</td>\n",
       "      <td>-4.166667</td>\n",
       "    </tr>\n",
       "    <tr>\n",
       "      <th>7</th>\n",
       "      <td>22012</td>\n",
       "      <td>-3.166667</td>\n",
       "    </tr>\n",
       "    <tr>\n",
       "      <th>8</th>\n",
       "      <td>22412</td>\n",
       "      <td>-5.666667</td>\n",
       "    </tr>\n",
       "    <tr>\n",
       "      <th>9</th>\n",
       "      <td>22512</td>\n",
       "      <td>-6.333333</td>\n",
       "    </tr>\n",
       "    <tr>\n",
       "      <th>10</th>\n",
       "      <td>22712</td>\n",
       "      <td>-4.333333</td>\n",
       "    </tr>\n",
       "    <tr>\n",
       "      <th>11</th>\n",
       "      <td>22811</td>\n",
       "      <td>-4.000000</td>\n",
       "    </tr>\n",
       "    <tr>\n",
       "      <th>12</th>\n",
       "      <td>30503</td>\n",
       "      <td>-5.833333</td>\n",
       "    </tr>\n",
       "    <tr>\n",
       "      <th>13</th>\n",
       "      <td>30505</td>\n",
       "      <td>1.166667</td>\n",
       "    </tr>\n",
       "    <tr>\n",
       "      <th>14</th>\n",
       "      <td>31103</td>\n",
       "      <td>1.166667</td>\n",
       "    </tr>\n",
       "  </tbody>\n",
       "</table>\n",
       "</div>"
      ],
      "text/plain": [
       "    team_id  mean_of_difference_of_two_phases\n",
       "0     21301                         -5.500000\n",
       "1     21312                         -7.166667\n",
       "2     21410                          1.666667\n",
       "3     21411                         -4.333333\n",
       "4     21412                         -6.000000\n",
       "5     22010                         -2.833333\n",
       "6     22011                         -4.166667\n",
       "7     22012                         -3.166667\n",
       "8     22412                         -5.666667\n",
       "9     22512                         -6.333333\n",
       "10    22712                         -4.333333\n",
       "11    22811                         -4.000000\n",
       "12    30503                         -5.833333\n",
       "13    30505                          1.166667\n",
       "14    31103                          1.166667"
      ]
     },
     "execution_count": 45,
     "metadata": {},
     "output_type": "execute_result"
    }
   ],
   "source": [
    "newhire_datadf= pd.DataFrame(newhire_datas)\n",
    "newhire_datadf"
   ]
  },
  {
   "cell_type": "code",
   "execution_count": 46,
   "id": "b39968e7",
   "metadata": {},
   "outputs": [],
   "source": [
    "control_datas = []\n",
    "for team_id, team_id_group_df in control_group.groupby(\"team_id\"):\n",
    "    data = {}\n",
    "    data[\"team_id\"] = team_id\n",
    "    data[\"mean_of_difference_of_two_phases\"] = calculate_mean_of_difference_of_two_phases(team_id_group_df)\n",
    "    control_datas.append(data)\n",
    "    "
   ]
  },
  {
   "cell_type": "code",
   "execution_count": 47,
   "id": "18fb941e",
   "metadata": {},
   "outputs": [
    {
     "data": {
      "text/html": [
       "<div>\n",
       "<style scoped>\n",
       "    .dataframe tbody tr th:only-of-type {\n",
       "        vertical-align: middle;\n",
       "    }\n",
       "\n",
       "    .dataframe tbody tr th {\n",
       "        vertical-align: top;\n",
       "    }\n",
       "\n",
       "    .dataframe thead th {\n",
       "        text-align: right;\n",
       "    }\n",
       "</style>\n",
       "<table border=\"1\" class=\"dataframe\">\n",
       "  <thead>\n",
       "    <tr style=\"text-align: right;\">\n",
       "      <th></th>\n",
       "      <th>team_id</th>\n",
       "      <th>mean_of_difference_of_two_phases</th>\n",
       "    </tr>\n",
       "  </thead>\n",
       "  <tbody>\n",
       "    <tr>\n",
       "      <th>0</th>\n",
       "      <td>102901</td>\n",
       "      <td>-6.333333</td>\n",
       "    </tr>\n",
       "    <tr>\n",
       "      <th>1</th>\n",
       "      <td>102910</td>\n",
       "      <td>-4.666667</td>\n",
       "    </tr>\n",
       "    <tr>\n",
       "      <th>2</th>\n",
       "      <td>103110</td>\n",
       "      <td>-3.666667</td>\n",
       "    </tr>\n",
       "    <tr>\n",
       "      <th>3</th>\n",
       "      <td>103111</td>\n",
       "      <td>-5.333333</td>\n",
       "    </tr>\n",
       "    <tr>\n",
       "      <th>4</th>\n",
       "      <td>103112</td>\n",
       "      <td>-4.333333</td>\n",
       "    </tr>\n",
       "    <tr>\n",
       "      <th>5</th>\n",
       "      <td>110801</td>\n",
       "      <td>-1.333333</td>\n",
       "    </tr>\n",
       "    <tr>\n",
       "      <th>6</th>\n",
       "      <td>111401</td>\n",
       "      <td>-3.833333</td>\n",
       "    </tr>\n",
       "    <tr>\n",
       "      <th>7</th>\n",
       "      <td>111501</td>\n",
       "      <td>-5.000000</td>\n",
       "    </tr>\n",
       "    <tr>\n",
       "      <th>8</th>\n",
       "      <td>111512</td>\n",
       "      <td>-4.833333</td>\n",
       "    </tr>\n",
       "    <tr>\n",
       "      <th>9</th>\n",
       "      <td>111901</td>\n",
       "      <td>-3.833333</td>\n",
       "    </tr>\n",
       "    <tr>\n",
       "      <th>10</th>\n",
       "      <td>111911</td>\n",
       "      <td>-4.500000</td>\n",
       "    </tr>\n",
       "    <tr>\n",
       "      <th>11</th>\n",
       "      <td>111912</td>\n",
       "      <td>-4.666667</td>\n",
       "    </tr>\n",
       "    <tr>\n",
       "      <th>12</th>\n",
       "      <td>112102</td>\n",
       "      <td>-4.166667</td>\n",
       "    </tr>\n",
       "    <tr>\n",
       "      <th>13</th>\n",
       "      <td>112103</td>\n",
       "      <td>-5.166667</td>\n",
       "    </tr>\n",
       "    <tr>\n",
       "      <th>14</th>\n",
       "      <td>112104</td>\n",
       "      <td>-5.666667</td>\n",
       "    </tr>\n",
       "    <tr>\n",
       "      <th>15</th>\n",
       "      <td>112105</td>\n",
       "      <td>-2.833333</td>\n",
       "    </tr>\n",
       "    <tr>\n",
       "      <th>16</th>\n",
       "      <td>112601</td>\n",
       "      <td>-4.333333</td>\n",
       "    </tr>\n",
       "    <tr>\n",
       "      <th>17</th>\n",
       "      <td>112602</td>\n",
       "      <td>-2.166667</td>\n",
       "    </tr>\n",
       "    <tr>\n",
       "      <th>18</th>\n",
       "      <td>112612</td>\n",
       "      <td>-3.166667</td>\n",
       "    </tr>\n",
       "    <tr>\n",
       "      <th>19</th>\n",
       "      <td>120901</td>\n",
       "      <td>-6.333333</td>\n",
       "    </tr>\n",
       "  </tbody>\n",
       "</table>\n",
       "</div>"
      ],
      "text/plain": [
       "    team_id  mean_of_difference_of_two_phases\n",
       "0    102901                         -6.333333\n",
       "1    102910                         -4.666667\n",
       "2    103110                         -3.666667\n",
       "3    103111                         -5.333333\n",
       "4    103112                         -4.333333\n",
       "5    110801                         -1.333333\n",
       "6    111401                         -3.833333\n",
       "7    111501                         -5.000000\n",
       "8    111512                         -4.833333\n",
       "9    111901                         -3.833333\n",
       "10   111911                         -4.500000\n",
       "11   111912                         -4.666667\n",
       "12   112102                         -4.166667\n",
       "13   112103                         -5.166667\n",
       "14   112104                         -5.666667\n",
       "15   112105                         -2.833333\n",
       "16   112601                         -4.333333\n",
       "17   112602                         -2.166667\n",
       "18   112612                         -3.166667\n",
       "19   120901                         -6.333333"
      ]
     },
     "execution_count": 47,
     "metadata": {},
     "output_type": "execute_result"
    }
   ],
   "source": [
    "control_datadf = pd.DataFrame(control_datas)\n",
    "control_datadf"
   ]
  },
  {
   "cell_type": "code",
   "execution_count": 48,
   "id": "b5c2bca3",
   "metadata": {},
   "outputs": [],
   "source": [
    "ai_mean_of_differences_of_two_phases = ai_datadf[\"mean_of_difference_of_two_phases\"].values\n",
    "newhire_mean_of_differences_of_two_phases = newhire_datadf[\"mean_of_difference_of_two_phases\"].values\n",
    "control_mean_of_differences_of_two_phases = control_datadf[\"mean_of_difference_of_two_phases\"].values"
   ]
  },
  {
   "cell_type": "code",
   "execution_count": 49,
   "id": "56237108",
   "metadata": {},
   "outputs": [
    {
     "data": {
      "text/plain": [
       "array([-7.16666667, -0.83333333, -3.5       , -2.16666667, -2.16666667,\n",
       "       -2.33333333, -4.83333333, -3.5       , -2.66666667, -3.83333333,\n",
       "       -1.        , -4.33333333, -2.5       , -2.66666667, -3.        ,\n",
       "       -3.        , -2.5       , -2.16666667, -5.5       , -2.5       ])"
      ]
     },
     "execution_count": 49,
     "metadata": {},
     "output_type": "execute_result"
    }
   ],
   "source": [
    "ai_mean_of_differences_of_two_phases"
   ]
  },
  {
   "cell_type": "code",
   "execution_count": 50,
   "id": "b3b3f1ac",
   "metadata": {},
   "outputs": [
    {
     "data": {
      "text/plain": [
       "array([-5.5       , -7.16666667,  1.66666667, -4.33333333, -6.        ,\n",
       "       -2.83333333, -4.16666667, -3.16666667, -5.66666667, -6.33333333,\n",
       "       -4.33333333, -4.        , -5.83333333,  1.16666667,  1.16666667])"
      ]
     },
     "execution_count": 50,
     "metadata": {},
     "output_type": "execute_result"
    }
   ],
   "source": [
    "newhire_mean_of_differences_of_two_phases"
   ]
  },
  {
   "cell_type": "code",
   "execution_count": 51,
   "id": "3705f2e7",
   "metadata": {
    "scrolled": false
   },
   "outputs": [
    {
     "data": {
      "text/plain": [
       "array([-6.33333333, -4.66666667, -3.66666667, -5.33333333, -4.33333333,\n",
       "       -1.33333333, -3.83333333, -5.        , -4.83333333, -3.83333333,\n",
       "       -4.5       , -4.66666667, -4.16666667, -5.16666667, -5.66666667,\n",
       "       -2.83333333, -4.33333333, -2.16666667, -3.16666667, -6.33333333])"
      ]
     },
     "execution_count": 51,
     "metadata": {},
     "output_type": "execute_result"
    }
   ],
   "source": [
    "control_mean_of_differences_of_two_phases"
   ]
  },
  {
   "cell_type": "code",
   "execution_count": 52,
   "id": "6b278451",
   "metadata": {},
   "outputs": [
    {
     "data": {
      "text/plain": [
       "F_onewayResult(statistic=2.0048468025567834, pvalue=0.14495854284025797)"
      ]
     },
     "execution_count": 52,
     "metadata": {},
     "output_type": "execute_result"
    }
   ],
   "source": [
    "\n",
    "f_oneway(\n",
    "    ai_mean_of_differences_of_two_phases,\n",
    "    newhire_mean_of_differences_of_two_phases,\n",
    "    control_mean_of_differences_of_two_phases\n",
    ")"
   ]
  },
  {
   "cell_type": "code",
   "execution_count": 53,
   "id": "c989e2b2",
   "metadata": {},
   "outputs": [
    {
     "data": {
      "text/plain": [
       "'\\nNull Hypothesis H0: There is no significant difference in mean performance among the three groups.\\nAlternative Hypothesis H1: There is a significant difference.\\n\\nThe result of the ANOVA test is as follows:\\n\\nF-statistic: 2.0048468025567834\\np-value: 0.14495854284025797\\n\\nInterpretation:\\nThe p-value of 0.11 is greater than the common significance level of 0.05. \\nTherefore, based on this result, there is not enough evidence to reject the null hypothesis.\\n\\nConclusion:\\nThe ANOVA test suggests that, at a significance level of 0.05, \\nthere is no significant difference in the mean number of collected ingredients among the \\nthree groups in phase 2 of the experiment.'"
      ]
     },
     "execution_count": 53,
     "metadata": {},
     "output_type": "execute_result"
    }
   ],
   "source": [
    "\"\"\"\n",
    "Null Hypothesis H0: There is no significant difference in mean performance among the three groups.\n",
    "Alternative Hypothesis H1: There is a significant difference.\n",
    "\n",
    "The result of the ANOVA test is as follows:\n",
    "\n",
    "F-statistic: 2.0048468025567834\n",
    "p-value: 0.14495854284025797\n",
    "\n",
    "Interpretation:\n",
    "The p-value of 0.11 is greater than the common significance level of 0.05. \n",
    "Therefore, based on this result, there is not enough evidence to reject the null hypothesis.\n",
    "\n",
    "Conclusion:\n",
    "The ANOVA test suggests that, at a significance level of 0.05, \n",
    "there is no significant difference in the mean number of collected ingredients among the \n",
    "three groups in phase 2 of the experiment.\"\"\""
   ]
  },
  {
   "cell_type": "code",
   "execution_count": null,
   "id": "8f151e64",
   "metadata": {},
   "outputs": [],
   "source": []
  }
 ],
 "metadata": {
  "kernelspec": {
   "display_name": "Python 3 (ipykernel)",
   "language": "python",
   "name": "python3"
  },
  "language_info": {
   "codemirror_mode": {
    "name": "ipython",
    "version": 3
   },
   "file_extension": ".py",
   "mimetype": "text/x-python",
   "name": "python",
   "nbconvert_exporter": "python",
   "pygments_lexer": "ipython3",
   "version": "3.11.4"
  }
 },
 "nbformat": 4,
 "nbformat_minor": 5
}
